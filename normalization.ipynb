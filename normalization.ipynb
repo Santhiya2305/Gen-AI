{
  "nbformat": 4,
  "nbformat_minor": 0,
  "metadata": {
    "colab": {
      "provenance": []
    },
    "kernelspec": {
      "name": "python3",
      "display_name": "Python 3"
    },
    "language_info": {
      "name": "python"
    }
  },
  "cells": [
    {
      "cell_type": "code",
      "execution_count": null,
      "metadata": {
        "id": "tHqtkEEJ-E_l"
      },
      "outputs": [],
      "source": [
        "text=\"There were once Three Little Pigs! they lived in a straw hut, a stick hut, and a brick hut\""
      ]
    },
    {
      "cell_type": "code",
      "source": [
        "normalized_text=text.lower()\n",
        "normalized_text=\"\".join([char for char in normalized_text if char.isalpha() or char.isspace()])\n",
        "normalized_text=\" \".join(normalized_text.split())\n",
        "print(\"orginal text:\",text)\n",
        "print(\"normalized text:\",normalized_text)"
      ],
      "metadata": {
        "colab": {
          "base_uri": "https://localhost:8080/"
        },
        "id": "kZMDkFQs-lfh",
        "outputId": "dbca11b5-3dba-4f66-db72-b843a88eb6e2"
      },
      "execution_count": null,
      "outputs": [
        {
          "output_type": "stream",
          "name": "stdout",
          "text": [
            "orginal text: There were once Three Little Pigs! they lived in a straw hut, a stick hut, and a brick hut\n",
            "normalized text: there were once three little pigs they lived in a straw hut a stick hut and a brick hut\n"
          ]
        }
      ]
    },
    {
      "cell_type": "markdown",
      "source": [
        "next file loading method"
      ],
      "metadata": {
        "id": "nOopN_3XBmye"
      }
    },
    {
      "cell_type": "code",
      "source": [
        "\n",
        "with open(\"/content/story.txt\", \"r\", encoding=\"utf-8\") as file:\n",
        "    text = file.read()\n",
        "normalized_text = text.lower()\n",
        "normalized_text = \"\".join([char for char in normalized_text if char.isalnum() or char.isspace()])\n",
        "normalized_text = \" \".join(normalized_text.split())\n",
        "print(\"Original Text:\\n\", text)\n",
        "print(\"\\nNormalized Text:\\n\", normalized_text)"
      ],
      "metadata": {
        "colab": {
          "base_uri": "https://localhost:8080/"
        },
        "id": "IOmAvAsdAGge",
        "outputId": "4ed16f8f-4473-4c02-b55e-1fc7e67e6426"
      },
      "execution_count": null,
      "outputs": [
        {
          "output_type": "stream",
          "name": "stdout",
          "text": [
            "Original Text:\n",
            " There isn't one single \"best\" story in English, as it's subjective and depends on individual preferences. However, some widely acclaimed and popular stories include \"The Lottery\" by Shirley Jackson, \"The Old Man and the Sea\" by Ernest Hemingway, and \"The Happy Prince\" by Oscar Wilde. Classic children's stories like \"The Tortoise and the Hare\" and \"The Three Little Pigs\" are also beloved and widely read. A chilling and unsettling story exploring themes of conformity and tradition. It's a classic example of a story that leaves a lasting impact on the reader. \n",
            "\n",
            "\n",
            "Normalized Text:\n",
            " there isnt one single best story in english as its subjective and depends on individual preferences however some widely acclaimed and popular stories include the lottery by shirley jackson the old man and the sea by ernest hemingway and the happy prince by oscar wilde classic childrens stories like the tortoise and the hare and the three little pigs are also beloved and widely read a chilling and unsettling story exploring themes of conformity and tradition its a classic example of a story that leaves a lasting impact on the reader\n"
          ]
        }
      ]
    },
    {
      "cell_type": "markdown",
      "source": [],
      "metadata": {
        "id": "xXCW-7IIG-DL"
      }
    }
  ]
}