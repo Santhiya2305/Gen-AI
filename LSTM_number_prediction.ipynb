{
  "nbformat": 4,
  "nbformat_minor": 0,
  "metadata": {
    "colab": {
      "provenance": []
    },
    "kernelspec": {
      "name": "python3",
      "display_name": "Python 3"
    },
    "language_info": {
      "name": "python"
    }
  },
  "cells": [
    {
      "cell_type": "code",
      "execution_count": 3,
      "metadata": {
        "id": "BjgeyL3kHX8_"
      },
      "outputs": [],
      "source": [
        "import numpy as np\n",
        "from tensorflow.keras.models import Sequential\n",
        "from tensorflow.keras.layers import LSTM,Dense\n",
        "import matplotlib.pyplot as plt"
      ]
    },
    {
      "cell_type": "code",
      "source": [
        "sequence=np.array([i for i in range(1,100000)])\n",
        "window_size=3\n",
        "x=[]\n",
        "y=[]\n",
        "for i in range(len(sequence)-window_size):\n",
        "    x.append(sequence[i:i+window_size])\n",
        "    y.append(sequence[i+window_size])\n",
        "x=np.array(x)\n",
        "y=np.array(y)\n",
        "x=x.reshape((x.shape[0],x.shape[1],1))\n",
        "\n"
      ],
      "metadata": {
        "id": "UFJz01YmHw0c"
      },
      "execution_count": 4,
      "outputs": []
    },
    {
      "cell_type": "code",
      "source": [
        "model=Sequential()\n",
        "model.add(LSTM(50,activation='relu',input_shape=(3,1)))\n",
        "model.add(Dense(1))\n",
        "model.compile(optimizer='adam',loss='mean_squared_error')"
      ],
      "metadata": {
        "colab": {
          "base_uri": "https://localhost:8080/"
        },
        "id": "ScKiPqaNM0B6",
        "outputId": "3b1aad17-28e1-49bd-cb6c-671f31b6d7a4"
      },
      "execution_count": 5,
      "outputs": [
        {
          "output_type": "stream",
          "name": "stderr",
          "text": [
            "/usr/local/lib/python3.11/dist-packages/keras/src/layers/rnn/rnn.py:200: UserWarning: Do not pass an `input_shape`/`input_dim` argument to a layer. When using Sequential models, prefer using an `Input(shape)` object as the first layer in the model instead.\n",
            "  super().__init__(**kwargs)\n"
          ]
        }
      ]
    },
    {
      "cell_type": "code",
      "source": [
        "model.fit(x,y,epochs=10,verbose=0)\n",
        "print(\"training completed\")"
      ],
      "metadata": {
        "colab": {
          "base_uri": "https://localhost:8080/"
        },
        "id": "Es2aay5fNCeu",
        "outputId": "20c88f4e-4f78-4ea2-b906-cc0f097d5e14"
      },
      "execution_count": 6,
      "outputs": [
        {
          "output_type": "stream",
          "name": "stdout",
          "text": [
            "training completed\n"
          ]
        }
      ]
    },
    {
      "cell_type": "code",
      "source": [
        "predictions=model.predict(x)\n",
        "plt.plot(y,label='true values')\n",
        "plt.plot(predictions,label='predicted')\n",
        "plt.legend()\n",
        "plt.title(\"prediction\")\n",
        "plt.show()"
      ],
      "metadata": {
        "colab": {
          "base_uri": "https://localhost:8080/",
          "height": 469
        },
        "id": "XBw0ubV-NJpl",
        "outputId": "2b4831c0-7394-449f-821f-ff6e5cd27496"
      },
      "execution_count": 7,
      "outputs": [
        {
          "output_type": "stream",
          "name": "stdout",
          "text": [
            "\u001b[1m3125/3125\u001b[0m \u001b[32m━━━━━━━━━━━━━━━━━━━━\u001b[0m\u001b[37m\u001b[0m \u001b[1m6s\u001b[0m 2ms/step\n"
          ]
        },
        {
          "output_type": "display_data",
          "data": {
            "text/plain": [
              "<Figure size 640x480 with 1 Axes>"
            ],
            "image/png": "[encoded data removed]"
          },
          "metadata": {}
        }
      ]
    },
    {
      "cell_type": "code",
      "source": [
        "import pickle\n",
        "with open('model.pkl','wb') as f:\n",
        "    pickle.dump(model,f)"
      ],
      "metadata": {
        "id": "0P-D6MzRSSlW"
      },
      "execution_count": 8,
      "outputs": []
    },
    {
      "cell_type": "code",
      "source": [
        "model.save(\"model.h5\")"
      ],
      "metadata": {
        "id": "WetYC-E_yoZJ",
        "outputId": "ac39ec84-2e12-41c7-b6e9-fa8f3f132bc0",
        "colab": {
          "base_uri": "https://localhost:8080/"
        }
      },
      "execution_count": 9,
      "outputs": [
        {
          "output_type": "stream",
          "name": "stderr",
          "text": [
            "WARNING:absl:You are saving your model as an HDF5 file via `model.save()` or `keras.saving.save_model(model)`. This file format is considered legacy. We recommend using instead the native Keras format, e.g. `model.save('my_model.keras')` or `keras.saving.save_model(model, 'my_model.keras')`. \n"
          ]
        }
      ]
    },
    {
      "cell_type": "code",
      "source": [
        "model.save(\"model.keras\")"
      ],
      "metadata": {
        "id": "-2BW_nWKy23K"
      },
      "execution_count": 10,
      "outputs": []
    },
    {
      "cell_type": "code",
      "source": [
        "\n",
        "with open('/content/model.pkl', 'rb') as f:\n",
        "    loaded_model = pickle.load(f)\n",
        "    print(\"model loaded\")\n",
        "\n",
        "# Now you can use loaded_model for predictions or further evaluation\n",
        "# For example:\n",
        "# test_input = np.array([8, 9, 10]).reshape((1, window_size, 1))\n",
        "# predicted = loaded_model.predict(test_input, verbose=0)\n",
        "# print(f\"predicted next number:{predicted[0][0]:.2f}\")"
      ],
      "metadata": {
        "colab": {
          "base_uri": "https://localhost:8080/"
        },
        "id": "xdpOZvwKS_OC",
        "outputId": "1effd7a8-f7f1-42ef-c4d6-d9569972b5cc"
      },
      "execution_count": 22,
      "outputs": [
        {
          "output_type": "stream",
          "name": "stdout",
          "text": [
            "model loaded\n"
          ]
        }
      ]
    },
    {
      "cell_type": "code",
      "source": [
        "import numpy as np\n",
        "\n",
        "# Ask the user to enter a sequence of numbers\n",
        "input_str = input(\"Enter your input sequence (e.g., 11 12 13): \")\n",
        "\n",
        "# Convert input to NumPy array of shape (1, window_size, 1)\n",
        "input_list = list(map(float, input_str.strip().split()))\n",
        "window_size = len(input_list)  # infer window size from user input\n",
        "\n",
        "my_input = np.array(input_list).reshape((1, window_size, 1))\n",
        "\n",
        "# Get prediction from the loaded model\n",
        "my_prediction = loaded_model.predict(my_input)\n",
        "\n",
        "# Print input and predicted output\n",
        "print(f\"Input: {my_input.flatten()}\")\n",
        "print(f\"Predicted output: {my_prediction[0][0]}\")"
      ],
      "metadata": {
        "colab": {
          "base_uri": "https://localhost:8080/"
        },
        "id": "OmRnMF_BV3SF",
        "outputId": "0362c1e0-0b8f-4898-ba86-6c47dee239d0"
      },
      "execution_count": 23,
      "outputs": [
        {
          "output_type": "stream",
          "name": "stdout",
          "text": [
            "Enter your input sequence (e.g., 11 12 13): 20000 20001 20002\n",
            "\u001b[1m1/1\u001b[0m \u001b[32m━━━━━━━━━━━━━━━━━━━━\u001b[0m\u001b[37m\u001b[0m \u001b[1m0s\u001b[0m 183ms/step\n",
            "Input: [20000. 20001. 20002.]\n",
            "Predicted output: 20002.51171875\n"
          ]
        }
      ]
    },
    {
      "cell_type": "code",
      "source": [],
      "metadata": {
        "id": "3ezNvJwVyGap"
      },
      "execution_count": null,
      "outputs": []
    }
  ]
}