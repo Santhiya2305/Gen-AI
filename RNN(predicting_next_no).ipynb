{
  "nbformat": 4,
  "nbformat_minor": 0,
  "metadata": {
    "colab": {
      "provenance": []
    },
    "kernelspec": {
      "name": "python3",
      "display_name": "Python 3"
    },
    "language_info": {
      "name": "python"
    }
  },
  "cells": [
    {
      "cell_type": "code",
      "execution_count": 2,
      "metadata": {
        "id": "BjgeyL3kHX8_"
      },
      "outputs": [],
      "source": [
        "import numpy as np\n",
        "from tensorflow.keras.models import Sequential\n",
        "from tensorflow.keras.layers import SimpleRNN,Dense\n",
        "import matplotlib.pyplot as plt"
      ]
    },
    {
      "cell_type": "code",
      "source": [
        "sequence=np.array([i for i in range(1,101)])\n",
        "window_size=3\n",
        "x=[]\n",
        "y=[]\n",
        "for i in range(len(sequence)-window_size):\n",
        "    x.append(sequence[i:i+window_size])\n",
        "    y.append(sequence[i+window_size])\n",
        "x=np.array(x)\n",
        "y=np.array(y)\n",
        "x=x.reshape((x.shape[0],x.shape[1],1))\n",
        "\n"
      ],
      "metadata": {
        "id": "UFJz01YmHw0c"
      },
      "execution_count": 3,
      "outputs": []
    },
    {
      "cell_type": "code",
      "source": [
        "model=Sequential()\n",
        "model.add(SimpleRNN(50,activation='relu',input_shape=(3,1)))\n",
        "model.add(Dense(1))\n",
        "model.compile(optimizer='adam',loss='mean_squared_error')"
      ],
      "metadata": {
        "colab": {
          "base_uri": "https://localhost:8080/",
          "height": 0
        },
        "id": "RL1RctgYIvK8",
        "outputId": "e442c6a5-400d-4f7b-eb03-fd00a9fef497"
      },
      "execution_count": 19,
      "outputs": [
        {
          "output_type": "stream",
          "name": "stderr",
          "text": [
            "/usr/local/lib/python3.11/dist-packages/keras/src/layers/rnn/rnn.py:200: UserWarning: Do not pass an `input_shape`/`input_dim` argument to a layer. When using Sequential models, prefer using an `Input(shape)` object as the first layer in the model instead.\n",
            "  super().__init__(**kwargs)\n"
          ]
        }
      ]
    },
    {
      "cell_type": "code",
      "source": [
        "model.fit(x,y,epochs=500,verbose=0)\n",
        "print(\"training completed\")"
      ],
      "metadata": {
        "colab": {
          "base_uri": "https://localhost:8080/"
        },
        "id": "Y_jVnV1uIvsZ",
        "outputId": "ba9cd508-7248-473f-9b6f-529654ef426c"
      },
      "execution_count": 21,
      "outputs": [
        {
          "output_type": "stream",
          "name": "stdout",
          "text": [
            "training completed\n"
          ]
        }
      ]
    },
    {
      "cell_type": "code",
      "source": [
        "test_input=np.array([20,21,22])\n",
        "test_input=test_input.reshape((1,window_size,1))\n",
        "predicted=model.predict(test_input,verbose=0)\n",
        "print(f\"predicted next number:{predicted[0][0].item():.2f}\")"
      ],
      "metadata": {
        "colab": {
          "base_uri": "https://localhost:8080/"
        },
        "id": "f8b8zgrRJi5V",
        "outputId": "26988da2-9429-430d-f4b5-b2442accc049"
      },
      "execution_count": 22,
      "outputs": [
        {
          "output_type": "stream",
          "name": "stdout",
          "text": [
            "predicted next number:22.84\n"
          ]
        }
      ]
    },
    {
      "cell_type": "code",
      "source": [
        "predictions=model.predict(x)\n",
        "plt.plot(y,label='true values')\n",
        "plt.plot(predictions,label='predicted')\n",
        "plt.legend()\n",
        "plt.title(\"prediction\")\n",
        "plt.show()"
      ],
      "metadata": {
        "colab": {
          "base_uri": "https://localhost:8080/",
          "height": 469
        },
        "id": "r4k5C3s1K1u5",
        "outputId": "6c6e6ad9-c6fd-4b2f-db2e-4afccfaaa3db"
      },
      "execution_count": 23,
      "outputs": [
        {
          "output_type": "stream",
          "name": "stdout",
          "text": [
            "\u001b[1m4/4\u001b[0m \u001b[32m━━━━━━━━━━━━━━━━━━━━\u001b[0m\u001b[37m\u001b[0m \u001b[1m0s\u001b[0m 13ms/step\n"
          ]
        },
        {
          "output_type": "display_data",
          "data": {
            "text/plain": [
              "<Figure size 640x480 with 1 Axes>"
            ],
            "image/png": "[encoded data removed]"
          },
          "metadata": {}
        }
      ]
    },
    {
      "cell_type": "code",
      "source": [
        "import pickle\n",
        "with open('model.pkl','wb') as f:\n",
        "    pickle.dump(model,f)"
      ],
      "metadata": {
        "id": "_mYdtFHPWVDx"
      },
      "execution_count": 25,
      "outputs": []
    },
    {
      "cell_type": "code",
      "source": [
        "with open('/content/model.pkl', 'rb') as f:\n",
        "    loaded_model = pickle.load(f)\n",
        "    print(\"model loaded\")"
      ],
      "metadata": {
        "colab": {
          "base_uri": "https://localhost:8080/"
        },
        "id": "4guszIPWWfsB",
        "outputId": "99f12d80-3e7d-433b-9530-24867c119222"
      },
      "execution_count": 26,
      "outputs": [
        {
          "output_type": "stream",
          "name": "stdout",
          "text": [
            "model loaded\n"
          ]
        }
      ]
    },
    {
      "cell_type": "code",
      "source": [
        "import numpy as np\n",
        "\n",
        "# Ask the user to enter a sequence of numbers\n",
        "input_str = input(\"Enter your input sequence (e.g., 11 12 13): \")\n",
        "\n",
        "# Convert input to NumPy array of shape (1, window_size, 1)\n",
        "input_list = list(map(float, input_str.strip().split()))\n",
        "window_size = len(input_list)  # infer window size from user input\n",
        "\n",
        "my_input = np.array(input_list).reshape((1, window_size, 1))\n",
        "\n",
        "# Get prediction from the loaded model\n",
        "my_prediction = loaded_model.predict(my_input)\n",
        "\n",
        "# Print input and predicted output\n",
        "print(f\"Input: {my_input.flatten()}\")\n",
        "print(f\"Predicted output: {my_prediction[0][0]}\")"
      ],
      "metadata": {
        "colab": {
          "base_uri": "https://localhost:8080/"
        },
        "id": "OmRnMF_BV3SF",
        "outputId": "d64eb028-a701-4e1b-827d-eaa1cb8d03de"
      },
      "execution_count": 27,
      "outputs": [
        {
          "output_type": "stream",
          "name": "stdout",
          "text": [
            "Enter your input sequence (e.g., 11 12 13): 30 31 32\n",
            "\u001b[1m1/1\u001b[0m \u001b[32m━━━━━━━━━━━━━━━━━━━━\u001b[0m\u001b[37m\u001b[0m \u001b[1m0s\u001b[0m 221ms/step\n",
            "Input: [30. 31. 32.]\n",
            "Predicted output: 32.85908889770508\n"
          ]
        }
      ]
    }
  ]
}